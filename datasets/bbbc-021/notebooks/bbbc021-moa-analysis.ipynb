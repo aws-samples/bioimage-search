{
 "cells": [
  {
   "cell_type": "markdown",
   "metadata": {},
   "source": [
    "## Summary\n",
    "This notebook evaluates an ML model design for its capacity to learn an embedding capable of distinguishing between different \"mechanisms of action\", or MOA, in the bbbc021 dataset. It does this by considering N trained models, where N corresponds to the number of chemical compounds with known MOA. Each of the N models differs from the others in that one particular compound was left out of its training set. Then, each of these models can be tested against its \"left out\" compound to evaluate its capacity to accurately classify the MOA of the left-out compound using knowledge learned from other compounds sharing the same MOA. The bbbc021 dataset has 12 MOA and 38 compounds with known MOA (there are several representative compounds per MOA, and up to 8 different concentrations per compound). There are a total of 103 'treatments' in the bbbc021 datasets with known MOA, where a treatment == the application of a particular compound at a particlar concentraion.\n",
    "\n",
    "During training the network model learns to compute an embedding (vector space) that tries to position compounds with the same MOA close together, while keeping compounds with differing MOA farther apart. Once trained, a model can be used to predict the MOA of an unknown (or untrained) MOA by finding its nearest labeled neighbors in the embedding space.\n",
    "\n",
    "This notebook assumes each of the N models is trained and available for evalution, and that each image in the dataset has a computed embedding corresponding to each model.\n",
    "\n",
    "For each of the N \"one compound left out\" models, the mean embedding for each of M treatments is computed. Then, MOA is assigned to each of the treatments corresponding to the left out compound (i.e., for each concetration separately) based on its nearest-neighbor. This is called NSC, or \"Not Same Compound\" analysis.\n",
    "\n",
    "Another analysis is done, NSCB, called \"Not Same Compound or Batch\", in which in addition to the compound being left out (at all concentrations) for nearest-neighbor consideration, all compounds prepared in the same Batch are also left out, to remove Batch-related characterists from biasing the results. This is only possible for 10 of the 12 MOAs, because 2 only have representatives in a single Batch."
   ]
  },
  {
   "cell_type": "code",
   "execution_count": null,
   "metadata": {},
   "outputs": [],
   "source": [
    "!pip install shortuuid"
   ]
  },
  {
   "cell_type": "code",
   "execution_count": null,
   "metadata": {},
   "outputs": [],
   "source": [
    "import sys\n",
    "import os\n",
    "import math\n",
    "import base64\n",
    "import boto3\n",
    "import sagemaker\n",
    "import matplotlib.pyplot as plt\n",
    "import numpy as np\n",
    "import collections\n",
    "from collections import defaultdict\n",
    "from PIL import Image\n",
    "import sklearn\n",
    "from sklearn.metrics import ConfusionMatrixDisplay\n",
    "from matplotlib.ticker import NullFormatter\n",
    "from sklearn import manifold, datasets\n",
    "from time import time\n",
    "from time import sleep"
   ]
  },
  {
   "cell_type": "code",
   "execution_count": null,
   "metadata": {},
   "outputs": [],
   "source": [
    "EMBEDDING_NAME = 'bbbc021-3'\n",
    "BASELINE_TRAIN_ID = '5TkVcLc6EM2pgkQwAujW2d'"
   ]
  },
  {
   "cell_type": "code",
   "execution_count": null,
   "metadata": {},
   "outputs": [],
   "source": [
    "s3c = boto3.client('s3')"
   ]
  },
  {
   "cell_type": "code",
   "execution_count": null,
   "metadata": {},
   "outputs": [],
   "source": [
    "%pwd"
   ]
  },
  {
   "cell_type": "code",
   "execution_count": null,
   "metadata": {},
   "outputs": [],
   "source": [
    "bioimsArtifactBucket='bioimagesearchbasestack-bioimagesearchdatabucketa-16h77xh6oyxmm'\n",
    "bbbc021Bucket='bioimagesearchbbbc021stack-bbbc021bucket544c3e64-10ecnwo51127'"
   ]
  },
  {
   "cell_type": "code",
   "execution_count": null,
   "metadata": {},
   "outputs": [],
   "source": [
    "# assumes cwd=/root/bioimage-search/datasets/bbbc-021/notebooks\n",
    "sys.path.insert(0, \"../../../cli/bioims/src\")\n",
    "import bioims as bi"
   ]
  },
  {
   "cell_type": "code",
   "execution_count": null,
   "metadata": {},
   "outputs": [],
   "source": [
    "sys.path.insert(0, \"../scripts\")\n",
    "import bbbc021common as bb"
   ]
  },
  {
   "cell_type": "code",
   "execution_count": null,
   "metadata": {},
   "outputs": [],
   "source": [
    "sagemaker_session = sagemaker.Session()\n",
    "bucket = sagemaker_session.default_bucket()\n",
    "role = sagemaker.get_execution_role()"
   ]
  },
  {
   "cell_type": "code",
   "execution_count": null,
   "metadata": {},
   "outputs": [],
   "source": [
    "bucket"
   ]
  },
  {
   "cell_type": "code",
   "execution_count": null,
   "metadata": {},
   "outputs": [],
   "source": [
    "print(role)"
   ]
  },
  {
   "cell_type": "markdown",
   "metadata": {},
   "source": [
    "## Prerequisites\n",
    "\n",
    "### Permissions\n",
    "This notebook requires adding the \"BioimageSearch\" managed policy to the above SageMaker execution role. Do this by using the IAM console to add the policy to the above role. The policy arn will be something like: arn:aws:iam::580829821648:policy/BioimageSearchResourcePermissionsStack-biomageSearchManagedPolicy9CB9C1D7-SXEV4WNUCZ7V"
   ]
  },
  {
   "cell_type": "markdown",
   "metadata": {},
   "source": [
    "### Steps\n",
    "* Use bbbc021 metadata to contruct a map of ( imageSourceId -> { compound, concentration } )\n",
    "* Begin with the name of the embedding, 'bbbc021'\n",
    "* Get the metadata for the embedding\n",
    "* Using the metadata for the embedding, get a list of compatible plates\n",
    "* Get the list of all trainIds for the embedding 'bbbc021'\n",
    "* Using the filter key of each trainId, create a map of (trainId->'left out compound')\n",
    "* For each 'left out compound' and its corresponding model, find the nearest neighbor MOA for each of its treatments:\n",
    "  * We need to group all embeddings (all images) per treatment, and compute the mean\n",
    "  * Iterate through each plate:\n",
    "      * Get all images\n",
    "      * For each image, get its embedding for the trainId and collect in its treatment group\n",
    "  * Compute the mean embedding for each treatment\n",
    "  * Find the nearest neighbor treatment to each 'left out compound/treatment'\n",
    "  * Assign the MOA of the nearest neighbor to the test treatment\n",
    "* Contruct confusion matrix with results, which summarizes all models together\n",
    "* Compute % of treatments with correctly assigned MOAs\n",
    "* This concludes the 'Not Same Compound' (NSC) compute\n",
    "* Repeat the whole process but exclude imagery from the same batch (e.g., 'Week#') - this is NSCB\n",
    "      "
   ]
  },
  {
   "cell_type": "markdown",
   "metadata": {},
   "source": [
    "Get ImageID->(compound, concentration) maps"
   ]
  },
  {
   "cell_type": "code",
   "execution_count": null,
   "metadata": {},
   "outputs": [],
   "source": [
    "image_df, moa_df = bb.Bbbc021PlateInfoByDF.getDataFrames(bbbc021Bucket)\n",
    "compound_moa_map = bb.Bbbc021PlateInfoByDF.getCompoundMoaMapFromDf(moa_df)\n",
    "\n",
    "sourceCompoundMap={}\n",
    "sourceConcentrationMap={}\n",
    "compoundCountMap={}\n",
    "moaCountMap={}\n",
    "for i in range(len(image_df.index)):\n",
    "    r = image_df.iloc[i]\n",
    "    imageSourceId = r['Image_FileName_DAPI'][:-4]\n",
    "    imageCompound=r['Image_Metadata_Compound']\n",
    "    sourceCompoundMap[imageSourceId]=imageCompound\n",
    "    sourceConcentrationMap[imageSourceId]=r['Image_Metadata_Concentration']\n",
    "    if imageCompound not in compoundCountMap:\n",
    "        compoundCountMap[imageCompound]=1\n",
    "    else:\n",
    "        compoundCountMap[imageCompound] = compoundCountMap[imageCompound] + 1\n",
    "    if imageCompound in compound_moa_map:\n",
    "        imageMoa=compound_moa_map[imageCompound]\n",
    "        if imageMoa not in moaCountMap:\n",
    "            moaCountMap[imageMoa]=1\n",
    "        else:\n",
    "            moaCountMap[imageMoa] = moaCountMap[imageMoa] + 1"
   ]
  },
  {
   "cell_type": "code",
   "execution_count": null,
   "metadata": {},
   "outputs": [],
   "source": [
    "compoundCountMap"
   ]
  },
  {
   "cell_type": "code",
   "execution_count": null,
   "metadata": {},
   "outputs": [],
   "source": [
    "moaCountMap"
   ]
  },
  {
   "cell_type": "code",
   "execution_count": null,
   "metadata": {},
   "outputs": [],
   "source": [
    "embeddingClient = bi.client('embedding')"
   ]
  },
  {
   "cell_type": "code",
   "execution_count": null,
   "metadata": {},
   "outputs": [],
   "source": [
    "imageClient = bi.client('image-management')"
   ]
  },
  {
   "cell_type": "code",
   "execution_count": null,
   "metadata": {},
   "outputs": [],
   "source": [
    "trainingConfigurationClient = bi.client('training-configuration')"
   ]
  },
  {
   "cell_type": "code",
   "execution_count": null,
   "metadata": {},
   "outputs": [],
   "source": [
    "embeddingInfo = trainingConfigurationClient.getEmbeddingInfo(EMBEDDING_NAME)"
   ]
  },
  {
   "cell_type": "code",
   "execution_count": null,
   "metadata": {},
   "outputs": [],
   "source": [
    "plateList = imageClient.listCompatiblePlates(embeddingInfo['inputWidth'], embeddingInfo['inputHeight'], embeddingInfo['inputDepth'], embeddingInfo['inputChannels'])"
   ]
  },
  {
   "cell_type": "code",
   "execution_count": null,
   "metadata": {},
   "outputs": [],
   "source": [
    "trainList = trainingConfigurationClient.getEmbeddingTrainings(EMBEDDING_NAME)"
   ]
  },
  {
   "cell_type": "code",
   "execution_count": null,
   "metadata": {},
   "outputs": [],
   "source": [
    "trainList"
   ]
  },
  {
   "cell_type": "code",
   "execution_count": null,
   "metadata": {},
   "outputs": [],
   "source": [
    "compound_moa_map"
   ]
  },
  {
   "cell_type": "code",
   "execution_count": null,
   "metadata": {},
   "outputs": [],
   "source": [
    "def getCompoundLabel(compound):    \n",
    "    cnws =\"\".join(compound.split())\n",
    "    return cnws.replace('/','-')"
   ]
  },
  {
   "cell_type": "code",
   "execution_count": null,
   "metadata": {},
   "outputs": [],
   "source": [
    "label_moa_map = {}\n",
    "labelCountMap = {}\n",
    "for c, m in compound_moa_map.items():\n",
    "    label = getCompoundLabel(c)\n",
    "    label_moa_map[label] = m\n",
    "    labelCountMap[label]=compoundCountMap[c]"
   ]
  },
  {
   "cell_type": "code",
   "execution_count": null,
   "metadata": {},
   "outputs": [],
   "source": [
    "label_moa_map"
   ]
  },
  {
   "cell_type": "code",
   "execution_count": null,
   "metadata": {},
   "outputs": [],
   "source": [
    "train_compoundLabel_map = {}"
   ]
  },
  {
   "cell_type": "code",
   "execution_count": null,
   "metadata": {},
   "outputs": [],
   "source": [
    "for trainInfo in trainList:\n",
    "    if 'filterKey' in trainInfo and len(trainInfo['filterKey'])>0:\n",
    "        filterKey = trainInfo['filterKey']\n",
    "        print(filterKey)\n",
    "        a1=filterKey.split('/')\n",
    "        print(a1)\n",
    "        a2=a1[2].split(\"-filter\")\n",
    "        print(a2)\n",
    "        trainId = trainInfo['trainId']\n",
    "        print(trainId)\n",
    "        train_compoundLabel_map[trainId]=a2[0]"
   ]
  },
  {
   "cell_type": "code",
   "execution_count": null,
   "metadata": {},
   "outputs": [],
   "source": [
    "train_compoundLabel_map"
   ]
  },
  {
   "cell_type": "markdown",
   "metadata": {},
   "source": [
    "Check that the counts match, we leave out the control DMSO:"
   ]
  },
  {
   "cell_type": "code",
   "execution_count": null,
   "metadata": {},
   "outputs": [],
   "source": [
    "len(train_compoundLabel_map)==len(compound_moa_map)-1"
   ]
  },
  {
   "cell_type": "code",
   "execution_count": null,
   "metadata": {},
   "outputs": [],
   "source": [
    "tagClient = bi.client(\"tag\")"
   ]
  },
  {
   "cell_type": "code",
   "execution_count": null,
   "metadata": {},
   "outputs": [],
   "source": [
    "tagList = tagClient.getAllTags()"
   ]
  },
  {
   "cell_type": "code",
   "execution_count": null,
   "metadata": {},
   "outputs": [],
   "source": [
    "compoundLabel_tag_map = {}\n",
    "for tag in tagList:\n",
    "    id = tag['id']\n",
    "    value = tag['tagValue']\n",
    "    type = tag['tagType']\n",
    "    if (value.startswith('compound:')):\n",
    "        a1 = value.split(\":\")\n",
    "        compoundLabel_tag_map[a1[1]]=id"
   ]
  },
  {
   "cell_type": "code",
   "execution_count": null,
   "metadata": {},
   "outputs": [],
   "source": [
    "compoundLabel_tag_map"
   ]
  },
  {
   "cell_type": "code",
   "execution_count": null,
   "metadata": {},
   "outputs": [],
   "source": [
    "searchClient = bi.client(\"search\")"
   ]
  },
  {
   "cell_type": "markdown",
   "metadata": {},
   "source": [
    "We use the search service to construct a histogram of the distribution of matches to MOAs, where we pool the results for the images of a \"left out\" treatment. Here we survey across a range of pick values (which in practice shows remarkable insensitivity)."
   ]
  },
  {
   "cell_type": "code",
   "execution_count": null,
   "metadata": {},
   "outputs": [],
   "source": [
    "def getMoaHistogram(trainId, leftOutCompoundLabel=''):\n",
    "    testSequence = []\n",
    "    for j in range(1,31):\n",
    "        testSequence.append(j)\n",
    "    print(\"***\")\n",
    "    print(trainId)\n",
    "    if leftOutCompoundLabel == '':\n",
    "        leftOutCompoundLabel=train_compoundLabel_map[trainId]\n",
    "    print(leftOutCompoundLabel)\n",
    "    leftOutMoa = label_moa_map[leftOutCompoundLabel]\n",
    "    print(leftOutMoa)\n",
    "    print(\"===\")\n",
    "    imageInfoMap={}\n",
    "    dmsoTag = compoundLabel_tag_map['DMSO']\n",
    "    searchPlateMap = {}\n",
    "    searchCount=0\n",
    "    imageListPlateMap={}\n",
    "    for plate in plateList:\n",
    "        plateId = plate['plateId']\n",
    "        #print(\"plate {}\".format(plateId))\n",
    "        images = imageClient.getImagesByPlateId(plateId)\n",
    "        imageListPlateMap[plateId] = images\n",
    "    print(\"Start search\")\n",
    "    for plate in plateList:\n",
    "        plateId = plate['plateId']\n",
    "        images = imageListPlateMap[plateId]\n",
    "        searchResponses = []\n",
    "        for image in images:\n",
    "            imageSourceId = image['Item']['imageSourceId']\n",
    "            imageId = image['Item']['imageId']\n",
    "            compound = sourceCompoundMap[imageSourceId]\n",
    "            compoundLabel = getCompoundLabel(compound)\n",
    "            concentration = sourceConcentrationMap[imageSourceId]\n",
    "            if compoundLabel==leftOutCompoundLabel:\n",
    "                #print(\"{} {} {} {}\".format(imageId, compound, compoundLabel, concentration))\n",
    "                exclusionTags = []\n",
    "                tag = compoundLabel_tag_map[compoundLabel]\n",
    "                exclusionTags.append(tag)\n",
    "                exclusionTags.append(dmsoTag)\n",
    "                search = {\n",
    "                    \"trainId\" : trainId,\n",
    "                    \"queryImageId\" : imageId,\n",
    "                    \"exclusionTags\" : exclusionTags,\n",
    "                    \"requireMoa\" : \"true\",\n",
    "                    \"metric\" : \"Cosine\"\n",
    "                }\n",
    "                #print(search)\n",
    "                searchResponse = searchClient.submitSearch(search)\n",
    "                searchCount += 1\n",
    "                searchResponses.append(searchResponse)\n",
    "        searchPlateMap[plateId] = searchResponses\n",
    "    searchResultsMap={}\n",
    "    resultCount=0\n",
    "    for plate in plateList:\n",
    "        plateId = plate['plateId']\n",
    "        searchResponses = searchPlateMap[plateId]\n",
    "        for searchResponse in searchResponses:\n",
    "            searchId = searchResponse['searchId']\n",
    "            statusValue = 'submitted'\n",
    "            while statusValue != 'completed' and statusValue != 'error':\n",
    "                sleep(1)\n",
    "                searchStatus = searchClient.getSearchStatus(searchId)\n",
    "                statusValue = searchStatus['Item']['status']\n",
    "            if statusValue == 'completed':\n",
    "                searchResults = searchClient.getSearchResults(searchId)\n",
    "                if plateId not in searchResultsMap:\n",
    "                    searchResultsMap[plateId] = []\n",
    "                searchResultsMap[plateId].append(searchResults)\n",
    "                resultCount += 1\n",
    "    print(\"searchCount={} resultCount={}\".format(searchCount, resultCount))\n",
    "    for testCount in testSequence:\n",
    "        moaBinCounts = {}\n",
    "        hitCount=0\n",
    "        binCount=0\n",
    "        for plate in plateList:\n",
    "                plateId = plate['plateId']\n",
    "                if plateId in searchResultsMap:\n",
    "                    searchResultsList = searchResultsMap[plateId]\n",
    "                    for searchResults in searchResultsList:\n",
    "                        for i in range(testCount):\n",
    "                            hitCount += 1\n",
    "                            searchResult = searchResults[i]\n",
    "                            hitImageId = searchResult['imageId']\n",
    "                            if hitImageId not in imageInfoMap:\n",
    "                                imageInfo = imageClient.getImageInfo(hitImageId, 'origin')\n",
    "                                imageInfoMap[hitImageId]=imageInfo\n",
    "                            imageInfo=imageInfoMap[hitImageId]\n",
    "                            imageSourceId = imageInfo['Item']['imageSourceId']\n",
    "                            hitCompound = sourceCompoundMap[imageSourceId]\n",
    "                            if hitCompound in compound_moa_map:\n",
    "                                moa = compound_moa_map[hitCompound]\n",
    "                            else:\n",
    "                                moa = \"unknown\"\n",
    "                            if moa in moaBinCounts:\n",
    "                                c = moaBinCounts[moa]\n",
    "                                c += 1\n",
    "                                binCount += 1\n",
    "                                moaBinCounts[moa] = c\n",
    "                            else:\n",
    "                                binCount += 1\n",
    "                                moaBinCounts[moa] = 1\n",
    "        print(\"hitCount={} binCount={}\".format(hitCount, binCount))\n",
    "        labelCount = labelCountMap[leftOutCompoundLabel]\n",
    "        labelMoaCount = moaCountMap[leftOutMoa]\n",
    "        adjustedLabelMoaCount = labelMoaCount - labelCount\n",
    "        bestMoa=''\n",
    "        bestScore=0.0\n",
    "        for moa in moaBinCounts:\n",
    "            c = moaBinCounts[moa]\n",
    "            m = moaCountMap[moa]\n",
    "            if moa == leftOutMoa:\n",
    "                n = c / adjustedLabelMoaCount\n",
    "            else:\n",
    "                n = c / m\n",
    "            if n > bestScore:\n",
    "                bestMoa=moa\n",
    "                bestScore=n\n",
    "        for moa in moaBinCounts:\n",
    "            c = moaBinCounts[moa]\n",
    "            m = moaCountMap[moa]\n",
    "            if moa == leftOutMoa:\n",
    "                n = c / adjustedLabelMoaCount\n",
    "            else:\n",
    "                n = c / m\n",
    "            if moa==bestMoa:\n",
    "                print(\"{}> {} {} {}\".format(testCount, moa, c, n))\n",
    "            else:\n",
    "                print(\"{} {} {} {}\".format(testCount, moa, c, n))            "
   ]
  },
  {
   "cell_type": "code",
   "execution_count": null,
   "metadata": {},
   "outputs": [],
   "source": [
    "trainIdList = []\n",
    "for trainInfo in trainList:\n",
    "    trainId = trainInfo['trainId']\n",
    "    if trainId!='origin' and trainId!=BASELINE_TRAIN_ID:\n",
    "        trainIdList.append(trainInfo['trainId'])\n",
    "trainIdList.sort()"
   ]
  },
  {
   "cell_type": "code",
   "execution_count": null,
   "metadata": {},
   "outputs": [],
   "source": [
    "trainIdList"
   ]
  },
  {
   "cell_type": "code",
   "execution_count": null,
   "metadata": {},
   "outputs": [],
   "source": [
    "j=1\n",
    "for trainId in trainIdList:\n",
    "    print(j)\n",
    "    getMoaHistogram(trainId)\n",
    "    j += 1"
   ]
  }
 ],
 "metadata": {
  "instance_type": "ml.t3.medium",
  "kernelspec": {
   "display_name": "Python 3 (Data Science)",
   "language": "python",
   "name": "python3__SAGEMAKER_INTERNAL__arn:aws:sagemaker:us-east-1:081325390199:image/datascience-1.0"
  },
  "language_info": {
   "codemirror_mode": {
    "name": "ipython",
    "version": 3
   },
   "file_extension": ".py",
   "mimetype": "text/x-python",
   "name": "python",
   "nbconvert_exporter": "python",
   "pygments_lexer": "ipython3",
   "version": "3.7.6"
  }
 },
 "nbformat": 4,
 "nbformat_minor": 4
}
