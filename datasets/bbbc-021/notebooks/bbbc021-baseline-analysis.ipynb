{
 "cells": [
  {
   "cell_type": "code",
   "execution_count": null,
   "metadata": {},
   "outputs": [],
   "source": [
    "!pip install shortuuid"
   ]
  },
  {
   "cell_type": "code",
   "execution_count": null,
   "metadata": {},
   "outputs": [],
   "source": [
    "import sys\n",
    "import os\n",
    "import math\n",
    "import base64\n",
    "import boto3\n",
    "import sagemaker\n",
    "import matplotlib.pyplot as plt\n",
    "import numpy as np\n",
    "import collections\n",
    "from collections import defaultdict\n",
    "from PIL import Image\n",
    "import sklearn\n",
    "from sklearn.metrics import ConfusionMatrixDisplay\n",
    "from matplotlib.ticker import NullFormatter\n",
    "from sklearn import manifold, datasets\n",
    "from time import time"
   ]
  },
  {
   "cell_type": "markdown",
   "metadata": {},
   "source": [
    "To avoid altering the conda environment of this notebook and introducing versioning conflicts, we do not pip -r the bioims cli requirements.txt file, although this would would be preferable than using pip directly here. "
   ]
  },
  {
   "cell_type": "code",
   "execution_count": null,
   "metadata": {},
   "outputs": [],
   "source": [
    "s3c = boto3.client('s3')"
   ]
  },
  {
   "cell_type": "code",
   "execution_count": null,
   "metadata": {},
   "outputs": [],
   "source": [
    "%pwd"
   ]
  },
  {
   "cell_type": "code",
   "execution_count": null,
   "metadata": {},
   "outputs": [],
   "source": [
    "bioimsArtifactBucket='bioimagesearchbasestack-bioimagesearchdatabucketa-16h77xh6oyxmm'"
   ]
  },
  {
   "cell_type": "code",
   "execution_count": null,
   "metadata": {},
   "outputs": [],
   "source": [
    "# assumes cwd=/root/bioimage-search/datasets/bbbc-021/notebooks\n",
    "sys.path.insert(0, \"../../../cli/bioims/src\")\n",
    "import bioims as bi"
   ]
  },
  {
   "cell_type": "code",
   "execution_count": null,
   "metadata": {},
   "outputs": [],
   "source": [
    "sagemaker_session = sagemaker.Session()\n",
    "bucket = sagemaker_session.default_bucket()\n",
    "role = sagemaker.get_execution_role()"
   ]
  },
  {
   "cell_type": "code",
   "execution_count": null,
   "metadata": {},
   "outputs": [],
   "source": [
    "print(role)"
   ]
  },
  {
   "cell_type": "markdown",
   "metadata": {},
   "source": [
    "## Prerequisites\n",
    "\n",
    "### Permissions\n",
    "This notebook requires adding the \"BioimageSearch\" managed policy to the above SageMaker execution role. Do this by using the IAM console to add the policy to the above role. The policy arn will be something like: arn:aws:iam::580829821648:policy/BioimageSearchResourcePermissionsStack-biomageSearchManagedPolicy9CB9C1D7-SXEV4WNUCZ7V\n",
    "\n",
    "### TrainID\n",
    "This notebook does a baseline, or sanity-check, on the training of the bbbc-021 dataset with a particular model, the context for which is specified by a BioimageSearch 'trainId', an output of the training process. If the evaluation of the results looks reasonable, then the comprehensive 'mechanism of action' (MOA) training series can be run, which creates a separate model for each chemical compound with known MOA. This collection of models, in turn, can be evaluated to determine the likelihood of whether a treatment (i.e., the application of a particular compound at a particular concentration) of unknown MOA would be properly classified. If so, then the model is likely to be useful for assigning MOA to treatments with unknown mechanisms of action, and more broadly for representing a molecule in 'MOA space'."
   ]
  },
  {
   "cell_type": "code",
   "execution_count": null,
   "metadata": {},
   "outputs": [],
   "source": [
    "# bbbc021: trainId = 'r6KEudzQCuUtDwCzziiMZT'\n",
    "# bbbc021-128:\n",
    "trainId = 'vT44kUtLi7jnSGC7VXG7iT'"
   ]
  },
  {
   "cell_type": "markdown",
   "metadata": {},
   "source": [
    "### Steps\n",
    "* Get the Embedding for the TrainId\n",
    "* Get the dimensions for the Embedding\n",
    "* Get the list of compatible plates\n",
    "* For each plate:\n",
    " * Get the origin row of each image to get its metadata\n",
    " * Get the embeddings for the specified TrainId\n",
    "* Combine the metadata and embeddings into a tablular object\n",
    "* Visualize separability\n",
    " * Compute the average embedding for each well\n",
    " * Label each well by known MOA (for cases where MOA is known)\n",
    " * Use a projection method (e.g., t-sne) to view the separability of results\n",
    "* Create 'baseline' confusion matrix (not valid due to circular model inclusion, but just for sanity check)\n",
    " * For each treatment with known MOA:\n",
    "   * Compute average across corresponding wells\n",
    "   * Find the MOA of its nearest neighbor\n",
    " * Plot matrix"
   ]
  },
  {
   "cell_type": "code",
   "execution_count": null,
   "metadata": {},
   "outputs": [],
   "source": [
    "trainClient = bi.client('training-configuration')"
   ]
  },
  {
   "cell_type": "code",
   "execution_count": null,
   "metadata": {},
   "outputs": [],
   "source": [
    "trainInfo = trainClient.getTraining(trainId)"
   ]
  },
  {
   "cell_type": "code",
   "execution_count": null,
   "metadata": {},
   "outputs": [],
   "source": [
    "trainInfo"
   ]
  },
  {
   "cell_type": "code",
   "execution_count": null,
   "metadata": {},
   "outputs": [],
   "source": [
    "embeddingInfo = trainClient.getEmbeddingInfo(trainInfo['embeddingName'])"
   ]
  },
  {
   "cell_type": "code",
   "execution_count": null,
   "metadata": {},
   "outputs": [],
   "source": [
    "embeddingInfo"
   ]
  },
  {
   "cell_type": "code",
   "execution_count": null,
   "metadata": {},
   "outputs": [],
   "source": [
    "imageClient = bi.client('image-management')"
   ]
  },
  {
   "cell_type": "code",
   "execution_count": null,
   "metadata": {},
   "outputs": [],
   "source": [
    "plates = imageClient.listCompatiblePlates(embeddingInfo['inputWidth'], embeddingInfo['inputHeight'], embeddingInfo['inputDepth'], embeddingInfo['inputChannels'])"
   ]
  },
  {
   "cell_type": "code",
   "execution_count": null,
   "metadata": {},
   "outputs": [],
   "source": [
    "plates"
   ]
  },
  {
   "cell_type": "code",
   "execution_count": null,
   "metadata": {},
   "outputs": [],
   "source": [
    "imagePlateExample = imageClient.getImagesByPlateId(plates[0]['plateId'])"
   ]
  },
  {
   "cell_type": "code",
   "execution_count": null,
   "metadata": {},
   "outputs": [],
   "source": [
    "imagePlateExample[0]"
   ]
  },
  {
   "cell_type": "code",
   "execution_count": null,
   "metadata": {},
   "outputs": [],
   "source": [
    "embeddingPlateExample = imageClient.getImagesByPlateIdAndTrainId(plates[0]['plateId'], trainId)"
   ]
  },
  {
   "cell_type": "code",
   "execution_count": null,
   "metadata": {},
   "outputs": [],
   "source": [
    "embeddingPlateExample[0]"
   ]
  },
  {
   "cell_type": "code",
   "execution_count": null,
   "metadata": {},
   "outputs": [],
   "source": [
    "#e1 = \"b'i6qJPbpKHL5IZSK+akeqPRVh570Wlvm869mrvXp6Pj5qKMy918wAvnCsQr6zHe+91nTsvalCALx3twG+Et21PRMvhb1Qzkw8mda2PYVZtD2RXyu7ggIWPs4AnT2keSE9oQ8ePqkEvL0bN4K97uzDPQ1NuD22JbO8TTCPvHkVCr0='\"\n",
    "e1 = embeddingPlateExample[0]['Item']['embedding']"
   ]
  },
  {
   "cell_type": "code",
   "execution_count": null,
   "metadata": {},
   "outputs": [],
   "source": [
    "e2 = e1.split(\"\\'\")"
   ]
  },
  {
   "cell_type": "code",
   "execution_count": null,
   "metadata": {},
   "outputs": [],
   "source": [
    "e3=e2[1].encode()"
   ]
  },
  {
   "cell_type": "code",
   "execution_count": null,
   "metadata": {},
   "outputs": [],
   "source": [
    "e4 = base64.decodebytes(e3)\n",
    "e5 = np.frombuffer(e4, dtype=np.float32)"
   ]
  },
  {
   "cell_type": "code",
   "execution_count": null,
   "metadata": {},
   "outputs": [],
   "source": [
    "e5"
   ]
  },
  {
   "cell_type": "code",
   "execution_count": null,
   "metadata": {},
   "outputs": [],
   "source": [
    "embeddingWidth=len(e5)"
   ]
  },
  {
   "cell_type": "code",
   "execution_count": null,
   "metadata": {},
   "outputs": [],
   "source": [
    "embeddingWidth"
   ]
  },
  {
   "cell_type": "code",
   "execution_count": null,
   "metadata": {},
   "outputs": [],
   "source": [
    "plateMap={}"
   ]
  },
  {
   "cell_type": "code",
   "execution_count": null,
   "metadata": {},
   "outputs": [],
   "source": [
    "for plateEntry in plates:\n",
    "    plateId=plateEntry['plateId']\n",
    "    print(\"Adding plateId {}\".format(plateId))\n",
    "    images=imageClient.getImagesByPlateId(plateId)\n",
    "    embeddings=imageClient.getImagesByPlateIdAndTrainId(plateId, trainId)\n",
    "    imageMap={}\n",
    "    for imageItem in images:\n",
    "        image=imageItem['Item']\n",
    "        imageId=image['imageId']\n",
    "        imageMap[imageId]=image\n",
    "    print(\"  found {} image entries\".format(len(imageMap)))\n",
    "    embeddingMap={}\n",
    "    for embeddingItem in embeddings:\n",
    "        if 'Item' in embeddingItem:\n",
    "            embedding=embeddingItem['Item']\n",
    "            imageId=embedding['imageId']\n",
    "            e1=embedding['embedding']\n",
    "            e2=e1.split(\"\\'\")\n",
    "            e3=e2[1].encode()\n",
    "            e4=base64.decodebytes(e3)\n",
    "            e5=np.frombuffer(e4, dtype=np.float32)\n",
    "            embedding['np']=e5\n",
    "            embeddingMap[imageId]=embedding\n",
    "    print(\"  found {} embedding entries\".format(len(embeddingMap)))\n",
    "    plateInfo = {\n",
    "        \"images\" : imageMap,\n",
    "        \"embeddings\" : embeddingMap\n",
    "    }\n",
    "    plateMap[plateId]=plateInfo"
   ]
  },
  {
   "cell_type": "markdown",
   "metadata": {},
   "source": [
    "# Review Plate Images\n",
    "\n",
    "Here I'd like to select a plate and visualize all composite images."
   ]
  },
  {
   "cell_type": "code",
   "execution_count": null,
   "metadata": {},
   "outputs": [],
   "source": [
    "artifactClient=bi.client('artifact')"
   ]
  },
  {
   "cell_type": "code",
   "execution_count": null,
   "metadata": {},
   "outputs": [],
   "source": [
    "artifactClient.getArtifacts('1xDNMw2ZFhpSGDTppgyeMU', 'origin')"
   ]
  },
  {
   "cell_type": "code",
   "execution_count": null,
   "metadata": {},
   "outputs": [],
   "source": [
    "plateId = 'tUyR81nttbs4oTerCmeY1W'"
   ]
  },
  {
   "cell_type": "code",
   "execution_count": null,
   "metadata": {},
   "outputs": [],
   "source": [
    "def showImage(im):\n",
    "    #plt.figure(figsize=(20,15))\n",
    "    plt.figure(figsize=(4,15))\n",
    "    plt.subplot(1,1,1)\n",
    "    plt.xticks([])\n",
    "    plt.yticks([])\n",
    "    print(\"shape=\", im.size)\n",
    "    print(\"format=\", im.format)\n",
    "    ip=plt.imshow(im)\n",
    "    #plt.xlabel(0)\n",
    "    plt.show()"
   ]
  },
  {
   "cell_type": "code",
   "execution_count": null,
   "metadata": {},
   "outputs": [],
   "source": [
    "def displayImages(images, columns, fx, fy):\n",
    "    plt.figure(figsize=(fx,fy))\n",
    "    l =len(images)\n",
    "    spx=columns\n",
    "    spy=math.ceil(l/spx)\n",
    "    i=0\n",
    "    for imkey in images:\n",
    "        fo = s3c.get_object(Bucket=bioimsArtifactBucket, Key=imkey)\n",
    "        fs = fo['Body']\n",
    "        im = Image.open(fs)\n",
    "        plt.subplot(spy,spx,i+1)\n",
    "        plt.xticks([])\n",
    "        plt.yticks([])\n",
    "        plt.imshow(im)\n",
    "        plt.xlabel(i)\n",
    "        i+=1"
   ]
  },
  {
   "cell_type": "code",
   "execution_count": null,
   "metadata": {},
   "outputs": [],
   "source": [
    "def displayThumbnailsForPlate(plateId):\n",
    "    plateDataMap = plateMap[plateId]\n",
    "    imageMap = plateDataMap['images']\n",
    "    imageIds = imageMap.keys()\n",
    "    keyList = []\n",
    "    for imageId in imageIds:\n",
    "        artifactList = artifactClient.getArtifacts(imageId, 'origin')\n",
    "        for artifact in artifactList:\n",
    "            s3key = artifact['artifact']\n",
    "        if s3key.endswith('thumbnail-2d.png'):\n",
    "            components = s3key.split('#')\n",
    "            keyList.append(components[1])\n",
    "    displayImages(keyList, 10, 20, 40)"
   ]
  },
  {
   "cell_type": "code",
   "execution_count": null,
   "metadata": {},
   "outputs": [],
   "source": [
    "displayThumbnailsForPlate(plateId)"
   ]
  },
  {
   "cell_type": "markdown",
   "metadata": {},
   "source": [
    "Next, we create a mapping from MOA->well-embedding, where we will naively take the average of the embeddings for each well (there are several images per well). An alternative would be taking the median."
   ]
  },
  {
   "cell_type": "code",
   "execution_count": null,
   "metadata": {},
   "outputs": [],
   "source": [
    "wellMap = {}"
   ]
  },
  {
   "cell_type": "code",
   "execution_count": null,
   "metadata": {},
   "outputs": [],
   "source": [
    "imageCount=0\n",
    "for plateId in plateMap:\n",
    "    print(\"plate {}\".format(plateId))\n",
    "    plateInfo = plateMap[plateId]\n",
    "    imageMap = plateInfo['images']\n",
    "    embeddingMap = plateInfo['embeddings']\n",
    "    for imageId in imageMap:\n",
    "        imageInfo = imageMap[imageId]\n",
    "        if imageId in embeddingMap:\n",
    "            embeddingInfo = embeddingMap[imageId]\n",
    "            if 'trainLabel' in imageInfo and 'np' in embeddingInfo:\n",
    "                wellId = imageInfo['wellId']\n",
    "                if wellId not in wellMap:\n",
    "                    imageArr = []\n",
    "                    wellMap[wellId]=imageArr\n",
    "                imageArr = wellMap[wellId]\n",
    "                imageEntry = {}\n",
    "                imageEntry['label']=imageInfo['trainLabel']\n",
    "                imageEntry['np']=embeddingInfo['np']\n",
    "                imageArr.append(imageEntry)\n",
    "                imageCount+=1\n",
    "print(\"Found {} wells\".format(len(wellMap)))\n",
    "print(\"Found {} images with MOA labels and embeddings\".format(imageCount))"
   ]
  },
  {
   "cell_type": "code",
   "execution_count": null,
   "metadata": {},
   "outputs": [],
   "source": [
    "moaMap={}"
   ]
  },
  {
   "cell_type": "code",
   "execution_count": null,
   "metadata": {},
   "outputs": [],
   "source": [
    "for wellId in wellMap:\n",
    "    imageArr = wellMap[wellId]\n",
    "    label = imageArr[0]['label']\n",
    "    if label not in moaMap:\n",
    "        wellArr = []\n",
    "        moaMap[label]=wellArr\n",
    "    wellArr = moaMap[label]\n",
    "    embeddingArr = []\n",
    "    for imageEntry in imageArr:\n",
    "        npe = imageEntry['np']\n",
    "        embeddingArr.append(npe)\n",
    "    npa = np.asarray(embeddingArr)\n",
    "    npm = np.mean(npa, axis=0)\n",
    "    wellArr.append(npm)"
   ]
  },
  {
   "cell_type": "code",
   "execution_count": null,
   "metadata": {},
   "outputs": [],
   "source": [
    "embeddingCount=0\n",
    "for label in moaMap:\n",
    "    wellArr = moaMap[label]\n",
    "    print(\"label {} has {} entries\".format(label, len(wellArr)))\n",
    "    embeddingCount += len(wellArr)"
   ]
  },
  {
   "cell_type": "code",
   "execution_count": null,
   "metadata": {},
   "outputs": [],
   "source": [
    "embeddingCount"
   ]
  },
  {
   "cell_type": "code",
   "execution_count": null,
   "metadata": {},
   "outputs": [],
   "source": [
    "moaSortedArr = []\n",
    "moaLabelMap = {}\n",
    "for label in moaMap:\n",
    "    moaSortedArr.append(label)"
   ]
  },
  {
   "cell_type": "code",
   "execution_count": null,
   "metadata": {},
   "outputs": [],
   "source": [
    "moaSortedArr"
   ]
  },
  {
   "cell_type": "code",
   "execution_count": null,
   "metadata": {},
   "outputs": [],
   "source": [
    "moaSortedArr.sort()"
   ]
  },
  {
   "cell_type": "code",
   "execution_count": null,
   "metadata": {},
   "outputs": [],
   "source": [
    "moaSortedArr"
   ]
  },
  {
   "cell_type": "code",
   "execution_count": null,
   "metadata": {},
   "outputs": [],
   "source": [
    "for i, l in enumerate(moaSortedArr):\n",
    "    moaLabelMap[l] = i"
   ]
  },
  {
   "cell_type": "code",
   "execution_count": null,
   "metadata": {},
   "outputs": [],
   "source": [
    "orderedEmbedding = np.empty( (embeddingCount, embeddingWidth), dtype=np.float32 )"
   ]
  },
  {
   "cell_type": "code",
   "execution_count": null,
   "metadata": {},
   "outputs": [],
   "source": [
    "orderedLabels = np.empty(embeddingCount, dtype=np.int32)"
   ]
  },
  {
   "cell_type": "code",
   "execution_count": null,
   "metadata": {},
   "outputs": [],
   "source": [
    "i=0\n",
    "for label in moaMap:\n",
    "    wellArr = moaMap[label]\n",
    "    for embedding in wellArr:\n",
    "        orderedEmbedding[i]=embedding\n",
    "        orderedLabels[i]=moaLabelMap[label]\n",
    "        i += 1"
   ]
  },
  {
   "cell_type": "code",
   "execution_count": null,
   "metadata": {},
   "outputs": [],
   "source": [
    "near_neighbors_per_example = 10\n",
    "gram_matrix = np.einsum(\"ae,be->ab\", orderedEmbedding, orderedEmbedding)\n",
    "near_neighbors = np.argsort(gram_matrix.T)[:, -(near_neighbors_per_example + 1) :]"
   ]
  },
  {
   "cell_type": "code",
   "execution_count": null,
   "metadata": {},
   "outputs": [],
   "source": [
    "class_idx_to_train_idxs = defaultdict(list)\n",
    "for y_train_idx, y in enumerate(orderedLabels):\n",
    "    class_idx_to_train_idxs[y].append(y_train_idx)"
   ]
  },
  {
   "cell_type": "code",
   "execution_count": null,
   "metadata": {},
   "outputs": [],
   "source": [
    "num_classes = 13\n",
    "confusion_matrix = np.zeros((num_classes, num_classes))\n",
    "\n",
    "# For each class.\n",
    "for class_idx in range(num_classes):\n",
    "    example_idxs = class_idx_to_train_idxs[class_idx][:near_neighbors_per_example]\n",
    "    for y_test_idx in example_idxs:\n",
    "        # Count the classes of its near neighbours.\n",
    "        for nn_idx in near_neighbors[y_test_idx][:-1]:\n",
    "            nn_class_idx = orderedLabels[nn_idx]\n",
    "            confusion_matrix[class_idx, nn_class_idx] += 1"
   ]
  },
  {
   "cell_type": "markdown",
   "metadata": {},
   "source": [
    "NOTE: with Confusion Matrix below, category 'DMSO' (predicted label 3), is equivalent to 'no treatment' since DMSO is the chemical control buffer. Therefore, we should not be surprised to see off-diagonals that represent a kind of 'best guess' network outcome. "
   ]
  },
  {
   "cell_type": "code",
   "execution_count": null,
   "metadata": {},
   "outputs": [],
   "source": [
    "# Display a confusion matrix.\n",
    "labels = [\n",
    "    \"0\",\n",
    "    \"1\",\n",
    "    \"2\",\n",
    "    \"3\",\n",
    "    \"4\",\n",
    "    \"5\",\n",
    "    \"6\",\n",
    "    \"7\",\n",
    "    \"8\",\n",
    "    \"9\",\n",
    "    \"10\",\n",
    "    \"11\",\n",
    "    \"12\"\n",
    "]\n",
    "plt.rcParams[\"figure.figsize\"] = (30,15)\n",
    "disp = ConfusionMatrixDisplay(confusion_matrix=confusion_matrix, display_labels=labels)\n",
    "disp.plot(include_values=True, cmap=\"viridis\", ax=None, xticks_rotation=\"vertical\")\n",
    "plt.show()"
   ]
  },
  {
   "cell_type": "code",
   "execution_count": null,
   "metadata": {},
   "outputs": [],
   "source": [
    "moaLabelMap"
   ]
  },
  {
   "cell_type": "code",
   "execution_count": null,
   "metadata": {},
   "outputs": [],
   "source": [
    "colorList=['b', '#55ff55', 'r', 'c', 'm', 'y', 'k', '#eeeeee', '#777777', '#ff9999', '#880000', '#009900', '#000088']"
   ]
  },
  {
   "cell_type": "markdown",
   "metadata": {},
   "source": [
    "NOTE: we remove DMSO from the t-sne plot since it is the 'no treatment' control"
   ]
  },
  {
   "cell_type": "code",
   "execution_count": null,
   "metadata": {},
   "outputs": [],
   "source": [
    "embeddingClassMembership=[]\n",
    "for c in range(num_classes):\n",
    "    if c == 3:\n",
    "        r1 = orderedLabels == -1\n",
    "    else:\n",
    "        r1 = orderedLabels == c\n",
    "    r2 = collections.Counter(r1)\n",
    "    embeddingClassMembership.append(r1)"
   ]
  },
  {
   "cell_type": "code",
   "execution_count": null,
   "metadata": {},
   "outputs": [],
   "source": [
    "(fig2, subplots2) = plt.subplots(1, 2, figsize=(20, 10))\n",
    "perplexities = [10, 100]\n",
    "\n",
    "for i, perplexity in enumerate(perplexities):\n",
    "    ax = subplots2[i]\n",
    "    tsne = manifold.TSNE(n_components=2, init='random', random_state=0, perplexity=perplexity)\n",
    "    Y = tsne.fit_transform(orderedEmbedding)\n",
    "    ax.set_title(\"Perplexity=%d\" % perplexity)\n",
    "    for cl in range(num_classes):\n",
    "        if cl != 3:\n",
    "            ax.scatter(Y[embeddingClassMembership[cl], 0], Y[embeddingClassMembership[cl], 1], c=colorList[cl])\n",
    "    ax.xaxis.set_major_formatter(NullFormatter())\n",
    "    ax.yaxis.set_major_formatter(NullFormatter())\n",
    "    ax.axis('tight')"
   ]
  },
  {
   "cell_type": "code",
   "execution_count": null,
   "metadata": {},
   "outputs": [],
   "source": []
  }
 ],
 "metadata": {
  "instance_type": "ml.t3.medium",
  "kernelspec": {
   "display_name": "Python 3 (Data Science)",
   "language": "python",
   "name": "python3__SAGEMAKER_INTERNAL__arn:aws:sagemaker:us-east-1:081325390199:image/datascience-1.0"
  },
  "language_info": {
   "codemirror_mode": {
    "name": "ipython",
    "version": 3
   },
   "file_extension": ".py",
   "mimetype": "text/x-python",
   "name": "python",
   "nbconvert_exporter": "python",
   "pygments_lexer": "ipython3",
   "version": "3.7.6"
  }
 },
 "nbformat": 4,
 "nbformat_minor": 4
}
